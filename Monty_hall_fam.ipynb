{
  "nbformat": 4,
  "nbformat_minor": 0,
  "metadata": {
    "colab": {
      "name": "Monty_hall_fam.ipynb",
      "provenance": [],
      "collapsed_sections": []
    },
    "kernelspec": {
      "name": "python3",
      "display_name": "Python 3"
    }
  },
  "cells": [
    {
      "cell_type": "markdown",
      "metadata": {
        "id": "_YHbXiXvyJ9L"
      },
      "source": [
        ""
      ]
    },
    {
      "cell_type": "code",
      "metadata": {
        "colab": {
          "base_uri": "https://localhost:8080/"
        },
        "id": "9dT2uACGyFil",
        "outputId": "69799f7b-22eb-4bf6-b6f8-9fa83315a82a"
      },
      "source": [
        "import numpy as np\n",
        "import random \n",
        "\n",
        "\n",
        "door_one, door_two, door_three = 0,1,2\n",
        "car = random.randint(0,2)\n",
        "choice = random.randint(0,2)\n",
        "print(\"prize key: 100 = car, -1 = goat\\n\\n\")\n",
        "print(\"Your random door choice: \", choice+1, \"\\n\")\n",
        "if car == door_one: \n",
        "  door_one_val = 100\n",
        "  door_two_val, door_three_val = -1, -1\n",
        "elif car == door_two: \n",
        "  door_two_val = 100\n",
        "  door_one_val, door_three_val = -1, -1\n",
        "else: \n",
        "  door_three_val = 100\n",
        "  door_two_val, door_one_val = -1, -1\n",
        "\n",
        "\n",
        "if choice == door_one: \n",
        "  if door_two_val < 0:\n",
        "    bad_door = door_two\n",
        "    new_choice = door_three\n",
        "    choice = door_three_val\n",
        "  else:\n",
        "    bad_door = door_three\n",
        "    new_choice = door_two\n",
        "    choice = door_two_val\n",
        "elif choice == door_two: \n",
        "  if door_one_val < 0:\n",
        "    bad_door = door_one\n",
        "    new_choice = door_three\n",
        "    choice = door_three_val\n",
        "  else:\n",
        "    bad_door = door_three\n",
        "    new_choice = door_one\n",
        "    choice = door_one_val\n",
        "else: \n",
        "  if door_one_val < 0:\n",
        "    bad_door = door_one\n",
        "    new_choice = door_two\n",
        "    choice = door_two_val\n",
        "  else:\n",
        "    bad_door = door_two\n",
        "    new_choice = door_one\n",
        "    choice = door_one_val\n",
        "\n",
        "  \n",
        "\n",
        "\n",
        "print(\"host says that door: \", bad_door+1, \" has a goat\")\n",
        "print(\"You switch to door: \", new_choice+1)\n",
        "print(\"Doors:  \", door_one+1, \"    \", door_two+1, \"    \", door_three+1)\n",
        "print(\"Prizes: \", door_one_val, \"  \", door_two_val, \"  \", door_three_val)\n",
        "if choice == 100:\n",
        "  print(\"win!\")\n",
        "else:\n",
        "  print(\"lose!\")\n",
        "\n",
        "\n"
      ],
      "execution_count": null,
      "outputs": [
        {
          "output_type": "stream",
          "text": [
            "prize key: 100 = car, -1 = goat\n",
            "\n",
            "\n",
            "Your random door choice:  1 \n",
            "\n",
            "host says that door:  3  has a goat\n",
            "You switch to door:  2\n",
            "Doors:   1      2      3\n",
            "Prizes:  -1    100    -1\n",
            "win!\n"
          ],
          "name": "stdout"
        }
      ]
    },
    {
      "cell_type": "code",
      "metadata": {
        "colab": {
          "base_uri": "https://localhost:8080/"
        },
        "id": "cvk7hgea7CwH",
        "outputId": "9b64f40b-b0ca-41ab-db02-991c1a178e81"
      },
      "source": [
        "import numpy as np\n",
        "import random \n",
        "win_count = 0\n",
        "for i in range(100000):\n",
        "  door_one, door_two, door_three = 0,1,2\n",
        "  car = random.randint(0,2)\n",
        "  choice = random.randint(0,2)\n",
        "  # print(\"prize key: 100 = car, -1 = goat\\n\\n\")\n",
        "  # print(\"Your random door choice: \", choice+1, \"\\n\")\n",
        "  if car == door_one: \n",
        "    door_one_val = 100\n",
        "    door_two_val, door_three_val = -1, -1\n",
        "  elif car == door_two: \n",
        "    door_two_val = 100\n",
        "    door_one_val, door_three_val = -1, -1\n",
        "  else: \n",
        "    door_three_val = 100\n",
        "    door_two_val, door_one_val = -1, -1\n",
        "\n",
        "\n",
        "  if choice == door_one: \n",
        "    if door_two_val < 0:\n",
        "      bad_door = door_two\n",
        "      new_choice = door_three\n",
        "      choice = door_three_val\n",
        "    else:\n",
        "      bad_door = door_three\n",
        "      new_choice = door_two\n",
        "      choice = door_two_val\n",
        "  elif choice == door_two: \n",
        "    if door_one_val < 0:\n",
        "      bad_door = door_one\n",
        "      new_choice = door_three\n",
        "      choice = door_three_val\n",
        "    else:\n",
        "      bad_door = door_three\n",
        "      new_choice = door_one\n",
        "      choice = door_one_val\n",
        "  else: \n",
        "    if door_one_val < 0:\n",
        "      bad_door = door_one\n",
        "      new_choice = door_two\n",
        "      choice = door_two_val\n",
        "    else:\n",
        "      bad_door = door_two\n",
        "      new_choice = door_one\n",
        "      choice = door_one_val\n",
        "\n",
        "    \n",
        "\n",
        "\n",
        "\n",
        "  if choice == 100:\n",
        "    win_count+=1\n",
        "\n",
        "print(\"win percentage when offered the bad door and you switch:\")\n",
        "print(win_count, \" wins out of 100000\")\n",
        "print(\"therefore a \", win_count/100000, \"% win rate\")\n",
        "\n",
        "\n"
      ],
      "execution_count": null,
      "outputs": [
        {
          "output_type": "stream",
          "text": [
            "win percentage when offered the bad door and you switch:\n",
            "66436  wins out of 100000\n",
            "therefore a  0.66436 % win rate\n"
          ],
          "name": "stdout"
        }
      ]
    },
    {
      "cell_type": "code",
      "metadata": {
        "colab": {
          "base_uri": "https://localhost:8080/"
        },
        "id": "S3PAGQlX8ABV",
        "outputId": "2012e9a0-61cc-40a4-971a-65f9d8438c9c"
      },
      "source": [
        "import numpy as np\n",
        "import random \n",
        "win_count = 0\n",
        "for i in range(100000):\n",
        "  door_one, door_two, door_three = 0,1,2\n",
        "  car = random.randint(0,2)\n",
        "  choice = random.randint(0,2)\n",
        "  # print(\"prize key: 100 = car, -1 = goat\\n\\n\")\n",
        "  # print(\"Your random door choice: \", choice+1, \"\\n\")\n",
        "  if car == door_one: \n",
        "    door_one_val = 100\n",
        "    door_two_val, door_three_val = -1, -1\n",
        "  elif car == door_two: \n",
        "    door_two_val = 100\n",
        "    door_one_val, door_three_val = -1, -1\n",
        "  else: \n",
        "    door_three_val = 100\n",
        "    door_two_val, door_one_val = -1, -1\n",
        "\n",
        "\n",
        "  if choice == door_one: \n",
        "\n",
        "      choice = door_one_val\n",
        "  elif choice == door_two: \n",
        "      choice = door_two_val\n",
        "  else: \n",
        "      choice = door_three_val\n",
        "\n",
        "\n",
        "    \n",
        "\n",
        "\n",
        "\n",
        "  if choice == 100:\n",
        "    win_count+=1\n",
        "\n",
        "print(\"win percentage when offered the bad door and you switch:\")\n",
        "print(win_count, \" wins out of 100000\")\n",
        "print(\"therefore a \", win_count/100000, \"% win rate\")\n",
        "\n",
        "\n"
      ],
      "execution_count": null,
      "outputs": [
        {
          "output_type": "stream",
          "text": [
            "win percentage when offered the bad door and you switch:\n",
            "33300  wins out of 100000\n",
            "therefore a  0.333 % win rate\n"
          ],
          "name": "stdout"
        }
      ]
    },
    {
      "cell_type": "code",
      "metadata": {
        "id": "Xipc8yeD7y5y"
      },
      "source": [
        ""
      ],
      "execution_count": null,
      "outputs": []
    }
  ]
}