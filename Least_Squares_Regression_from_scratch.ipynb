{
  "nbformat": 4,
  "nbformat_minor": 0,
  "metadata": {
    "colab": {
      "name": "Project 2 Code.ipynb",
      "provenance": []
    },
    "kernelspec": {
      "name": "python3",
      "display_name": "Python 3"
    }
  },
  "cells": [
    {
      "cell_type": "code",
      "metadata": {
        "id": "uR1CF0vYF_Me",
        "colab": {
          "base_uri": "https://localhost:8080/",
          "height": 606
        },
        "outputId": "a6f04d26-c554-4c42-cd43-11de06b46f42"
      },
      "source": [
        "# Jacob Barger\n",
        "# Project 2 (least squares regression implementation from scratch)\n",
        "# Due 9/30/20\n",
        "# CS5340\n",
        "\n",
        "import matplotlib.pyplot as plt\n",
        "import numpy as np\n",
        "\n",
        "\n",
        "# training set points\n",
        "X = [1, 2, 3, 4, 5, 10, 11, 12, 13]\n",
        "Y = [0, 0, 0, 1, 1, 1, 1, 1, 1]\n",
        "\n",
        "# test set points\n",
        "Xt = [2.4, 5.5, 3.9]\n",
        "Yt = [0, 1, 0]\n",
        "\n",
        "\n",
        "# plot initial training data\n",
        "plt.scatter(X, Y)\n",
        "plt.xlabel(\"X\")\n",
        "plt.ylabel(\"Y\")\n",
        "plt.title(\"Training Data\")\n",
        "plt.show()\n",
        "\n",
        "\n",
        "# calculate mean for test set\n",
        "X_mean = np.mean(X)\n",
        "Y_mean = np.mean(Y)\n",
        "\n",
        "# initialize the slope division components to zero\n",
        "slope_numerator = 0\n",
        "slope_denominator = 0\n",
        "\n",
        "# compute summation of squared distance to regression line\n",
        "for i in range(len(X)):\n",
        "    slope_numerator += (X[i] - X_mean) * (Y[i] - Y_mean)\n",
        "    slope_denominator += (X[i] - X_mean) ** 2\n",
        "\n",
        "# divide the summarized slope fraction components to find the coefficient\n",
        "m = slope_numerator / slope_denominator\n",
        "# calculate the intercept\n",
        "b = Y_mean - m * X_mean\n",
        "\n",
        "# print calculated equation of line\n",
        "print(\"Y = \", m, \" * X + \", b)\n",
        "\n",
        "# make array of predictions\n",
        "Y_pred = list()\n",
        "for i in range(len(X)):\n",
        "    Y_pred.append(m*X[i] + b)\n",
        "\n",
        "\n",
        "# plot test set with regression line\n",
        "plt.scatter(Xt, Yt, c=Yt)\n",
        "plt.ylabel(\"Y\")\n",
        "plt.xlabel(\"X\")\n",
        "plt.title(\"Test Data\")\n",
        "plt.plot([min(X), max(X)], [min(Y_pred), max(Y_pred)], color='red') # predicted\n",
        "plt.show()\n",
        "\n",
        "# verify the the line equation by plotting two points on line and extracting equation\n",
        "verify = np.polyfit([min(X), max(X)], [min(Y_pred), max(Y_pred)], 1)\n",
        "print(verify[0], verify[1])"
      ],
      "execution_count": null,
      "outputs": [
        {
          "output_type": "display_data",
          "data": {
            "image/png": "[encoded data removed]",
            "text/plain": [
              "<Figure size 432x288 with 1 Axes>"
            ]
          },
          "metadata": {
            "tags": [],
            "needs_background": "light"
          }
        },
        {
          "output_type": "stream",
          "text": [
            "Y =  0.08164556962025316  * X +  0.11329113924050638\n"
          ],
          "name": "stdout"
        },
        {
          "output_type": "display_data",
          "data": {
            "image/png": "[encoded data removed]",
            "text/plain": [
              "<Figure size 432x288 with 1 Axes>"
            ]
          },
          "metadata": {
            "tags": [],
            "needs_background": "light"
          }
        },
        {
          "output_type": "stream",
          "text": [
            "0.08164556962025317 0.11329113924050652\n"
          ],
          "name": "stdout"
        }
      ]
    }
  ]
}