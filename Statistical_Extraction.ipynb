{
  "nbformat": 4,
  "nbformat_minor": 0,
  "metadata": {
    "colab": {
      "name": "5340 Project 5.ipynb",
      "provenance": []
    },
    "kernelspec": {
      "name": "python3",
      "display_name": "Python 3"
    }
  },
  "cells": [
    {
      "cell_type": "code",
      "metadata": {
        "colab": {
          "base_uri": "https://localhost:8080/",
          "height": 374
        },
        "id": "KTGWk93Votxf",
        "outputId": "a41881ea-714e-436e-edcd-d0b2e6c92b8d"
      },
      "source": [
        "# Jacob Barger\n",
        "# CMPSCI 5340\n",
        "# Project 5\n",
        "# 12/11/2020\n",
        "\n",
        "# --------------- IMPORT DEPENDENCIES ---------------- #\n",
        "\n",
        "import numpy as np\n",
        "import matplotlib.pyplot as plt\n",
        "\n",
        "\n",
        "# --------------- FUNCTION DECLARATIONS --------------- #\n",
        "\n",
        "# Function which genertes x data in the range [-1, 1] and calculates g_bar\n",
        "# and f(x) for each point, and then plots the results for comparison \n",
        "def plot_gbar_fx():\n",
        "  x_data = np.arange(-1, 1, 0.25)\n",
        "  fx, gbar = [],[]\n",
        "  for x in x_data:\n",
        "      fx.append(x ** 2)\n",
        "      mean, var, bias = average_of_g(x)\n",
        "      gbar.append(mean)\n",
        "  plt.plot(x_data, fx, 'b--', label='f(x)')\n",
        "  plt.plot(x_data, gbar, 'r', label='g_bar(x)')\n",
        "  plt.legend()\n",
        "\n",
        "# Function which applies the s_funct found in 2.24 part a in the uploaded\n",
        "# image above\n",
        "def s_funct(x, x_1, x_2):\n",
        "    Sa = x_1 + x_2\n",
        "    Sb = -x_1 * x_2\n",
        "    return Sa*x + Sb\n",
        "\n",
        "# Function which calculates g_bar for given x data point(s)\n",
        "def average_of_g(x):\n",
        "    s_array = []\n",
        "    for i in range(sample_count):\n",
        "        x_1, x_2 = -1 + np.random.random_sample(( 2, )) * (1 - (-1))\n",
        "        s_array.append(s_funct(x, x_1, x_2))\n",
        "    mean_x = np.mean(s_array)\n",
        "    var_x = np.var(s_array)\n",
        "    bias_x = (mean_x - x**2)**2\n",
        "    return mean_x, var_x, bias_x\n",
        "\n",
        "# Function to calculate g_bar, var, bias, and e_out based on samples \n",
        "# selected from a uniform distribution in the range [-1, 1] number \n",
        "# of samples chosen is equal to sample_count\n",
        "def numerical_calc():\n",
        "  var_array, bias_array, e_out_array = [], [], []\n",
        "  for i in range(sample_count):\n",
        "      x = (-1) + np.random.random_sample(( 1, )) * (1 - (-1))\n",
        "      g_bar, var, bias = average_of_g(x)\n",
        "      var_array.append(var)\n",
        "      bias_array.append(bias)\n",
        "      expected_e_out = []\n",
        "      for i in range(sample_count):\n",
        "          x_1, x_2 = -1 + np.random.random_sample(( 2, )) * (1 - (-1))\n",
        "          expected_e_out.append((s_funct(x, x_1, x_2) - x**2) ** 2)\n",
        "      mean_e_out = np.mean(expected_e_out)\n",
        "      e_out_array.append(mean_e_out)\n",
        "  var, bias, e_out = round(np.mean(var_array), 2), round(np.mean(bias_array), 2), round(np.mean(e_out_array), 2)\n",
        "  g_bar = round(g_bar, 2)\n",
        "  return g_bar, var, bias, e_out\n",
        "\n",
        "\n",
        "# ---------------------- INPUT ----------------------- #\n",
        "\n",
        "# set seed for reproducable rng / results\n",
        "seed = 1\n",
        "np.random.seed(seed)\n",
        "\n",
        "# decide number of samples to generate \n",
        "sample_count = 500\n",
        "\n",
        "\n",
        "# --------------------- RESULTS ----------------------- #\n",
        "\n",
        "# calculate g_bar, var, bias, and e_out and print them\n",
        "g_bar, var, bias, e_out = numerical_calc()\n",
        "print(\"Calculations rounded to nearest hundreth\")\n",
        "print('g_bar(x):   ', g_bar, '\\nvar:        ', var,'\\nbias:       ', bias, '\\nbias + var: ', bias + var, '\\nE_out:      ', e_out)\n",
        "\n",
        "#plot g_bar at x and f(x) \n",
        "plot_gbar_fx()\n",
        "\n",
        "# ----------------------- END ------------------------- #"
      ],
      "execution_count": null,
      "outputs": [
        {
          "output_type": "stream",
          "text": [
            "Calculations rounded to nearest hundreth\n",
            "g_bar(x):    0.04 \n",
            "var:         0.33 \n",
            "bias:        0.2 \n",
            "bias + var:  0.53 \n",
            "E_out:       0.52\n"
          ],
          "name": "stdout"
        },
        {
          "output_type": "display_data",
          "data": {
            "image/png": "[encoded data removed]",
            "text/plain": [
              "<Figure size 432x288 with 1 Axes>"
            ]
          },
          "metadata": {
            "tags": [],
            "needs_background": "light"
          }
        }
      ]
    }
  ]
}